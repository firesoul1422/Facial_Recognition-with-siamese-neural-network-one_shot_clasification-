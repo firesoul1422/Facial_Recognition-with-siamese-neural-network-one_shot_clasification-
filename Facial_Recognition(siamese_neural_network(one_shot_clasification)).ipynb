{
 "cells": [
  {
   "cell_type": "code",
   "execution_count": null,
   "id": "80f26f94",
   "metadata": {
    "scrolled": true
   },
   "outputs": [],
   "source": [
    "!pip install opencv-python"
   ]
  },
  {
   "cell_type": "code",
   "execution_count": null,
   "id": "c065451f",
   "metadata": {},
   "outputs": [],
   "source": [
    "# import standerd libraries\n",
    "import cv2\n",
    "import numpy as np\n",
    "import matplotlib.pyplot as plt\n",
    "import os\n",
    "import random"
   ]
  },
  {
   "cell_type": "code",
   "execution_count": null,
   "id": "d45410e1",
   "metadata": {},
   "outputs": [],
   "source": [
    "# import tensorflow \n",
    "from tensorflow.keras.models import Model\n",
    "from tensorflow.keras.layers import Layer, Conv2D, MaxPooling2D, Dense, Input, Flatten\n",
    "import tensorflow as tf"
   ]
  },
  {
   "cell_type": "code",
   "execution_count": null,
   "id": "50d6c3c6",
   "metadata": {
    "scrolled": true
   },
   "outputs": [],
   "source": [
    "tf.__version__"
   ]
  },
  {
   "cell_type": "code",
   "execution_count": null,
   "id": "e2331461",
   "metadata": {},
   "outputs": [],
   "source": [
    "# to avoid out of memory errors by settieng GPU consumption growth\n",
    "gpus = tf.config.experimental.list_physical_devices(\"GPU\")\n",
    "for gpu in gpus:\n",
    "    tf.config.experimental.set_memory_growth(gpu,True)"
   ]
  },
  {
   "cell_type": "code",
   "execution_count": null,
   "id": "7d557921",
   "metadata": {},
   "outputs": [],
   "source": [
    "# Setup paths\n",
    "POS_PATH = os.path.join(\"data\",\"psitive\")\n",
    "NEG_PATH = os.path.join(\"data\",\"negaitive\")\n",
    "ANC_PATH = os.path.join(\"data\",\"anchor\")"
   ]
  },
  {
   "cell_type": "code",
   "execution_count": null,
   "id": "b8461297",
   "metadata": {},
   "outputs": [],
   "source": [
    "# Create Folders\n",
    "os.makedirs(POS_PATH)\n",
    "os.makedirs(NEG_PATH)\n",
    "os.makedirs(ANC_PATH)"
   ]
  },
  {
   "cell_type": "markdown",
   "id": "f638f6f1",
   "metadata": {},
   "source": [
    "# negaitive examples"
   ]
  },
  {
   "cell_type": "code",
   "execution_count": null,
   "id": "7695e827",
   "metadata": {},
   "outputs": [],
   "source": [
    "#download Tar GZ Labelled faces in the wild datasets and unpacked it like this\n",
    "!tar -xf lfw.tgz"
   ]
  },
  {
   "cell_type": "code",
   "execution_count": null,
   "id": "dadc0cb8",
   "metadata": {},
   "outputs": [],
   "source": [
    "# Move LFW images to the following folder data/negaitive\n",
    "for directory in os.listdir(\"lfw\"):\n",
    "    for file in os.listdir(os.path.join(\"lfw\", directory)):\n",
    "        EX_PATH = os.path.join(\"lfw\", directory, file)\n",
    "        NEW_PATH = os.path.join(NEG_PATH, file)\n",
    "        os.replace(EX_PATH, NEW_PATH)"
   ]
  },
  {
   "cell_type": "markdown",
   "id": "95f2d0ed",
   "metadata": {},
   "source": [
    "# Positive and anchor classes"
   ]
  },
  {
   "cell_type": "code",
   "execution_count": null,
   "id": "8d544fe2",
   "metadata": {},
   "outputs": [],
   "source": [
    "# import uuid to generate unique images name\n",
    "import uuid"
   ]
  },
  {
   "cell_type": "code",
   "execution_count": null,
   "id": "653a6970",
   "metadata": {},
   "outputs": [],
   "source": [
    "#connection to the webcam\n",
    "cap = cv2.VideoCapture(0)\n",
    "while cap.isOpened:\n",
    "    ret, frame = cap.read()\n",
    "    \n",
    "    # set the hight and width of the frame\n",
    "    frame = frame[100:350, 200:450, :]\n",
    "    \n",
    "    # collect anchirs\n",
    "    if cv2.waitKey(1) & 0XFF == ord(\"a\"):\n",
    "        # Create a unique image path name\n",
    "        imgname = os.path.join(ANC_PATH, f\"{uuid.uuid1()}.jpg\")\n",
    "        # write our image anchor\n",
    "        cv2.imwrite(imgname, frame)\n",
    "    \n",
    "    \n",
    "    #collect positives\n",
    "    if cv2.waitKey(1) & 0XFF == ord(\"p\"):\n",
    "        # Create a unique image path name\n",
    "        imgname = os.path.join(POS_PATH, f\"{uuid.uuid1()}.jpg\")\n",
    "        # write our image anchor\n",
    "        cv2.imwrite(imgname, frame)\n",
    "    \n",
    "    #show image in the screen\n",
    "    cv2.imshow(\"image collection\",frame)\n",
    "    \n",
    "    if cv2.waitKey(1) & 0XFF == ord(\"q\"):\n",
    "        break\n",
    "        \n",
    "cap.release()\n",
    "cv2.destroyAllWindows()"
   ]
  },
  {
   "cell_type": "code",
   "execution_count": null,
   "id": "7557a9a2",
   "metadata": {},
   "outputs": [],
   "source": [
    "#get our image directories\n",
    "anchor = tf.data.Dataset.list_files(ANC_PATH+\"\\*.jpg\").take(400)\n",
    "positive = tf.data.Dataset.list_files(POS_PATH+\"\\*.jpg\").take(400)\n",
    "negative = tf.data.Dataset.list_files(NEG_PATH+\"\\*.jpg\").take(400)"
   ]
  },
  {
   "cell_type": "code",
   "execution_count": null,
   "id": "05ca38bb",
   "metadata": {},
   "outputs": [],
   "source": [
    "def preprocess(file_path):\n",
    "    # Read image\n",
    "    img = tf.io.read_file(file_path)\n",
    "    # turn our image to tensor\n",
    "    img = tf.io.decode_image(img, expand_animations = False)\n",
    "    # rescale our image to (105,105)\n",
    "    img = tf.image.resize(img, (105,105))\n",
    "    # normalize our image (between 0 and 1)\n",
    "    img = img/255.\n",
    "    return img"
   ]
  },
  {
   "cell_type": "code",
   "execution_count": null,
   "id": "fb8b02df",
   "metadata": {},
   "outputs": [],
   "source": [
    "# Create our labelled Datasets\n",
    "positives = tf.data.Dataset.zip((anchor, positive, tf.data.Dataset.from_tensor_slices(tf.ones(len(anchor)))))\n",
    "negatives = tf.data.Dataset.zip((anchor, negative, tf.data.Dataset.from_tensor_slices(tf.zeros(len(anchor)))))\n",
    "data = positives.concatenate(negatives)"
   ]
  },
  {
   "cell_type": "code",
   "execution_count": null,
   "id": "cbb9183b",
   "metadata": {},
   "outputs": [],
   "source": [
    "len(data)"
   ]
  },
  {
   "cell_type": "code",
   "execution_count": null,
   "id": "79a4637b",
   "metadata": {},
   "outputs": [],
   "source": [
    "def preprocess_twin(input_img, validation_img, label):\n",
    "    return (preprocess(input_img), preprocess(validation_img), label)"
   ]
  },
  {
   "cell_type": "code",
   "execution_count": null,
   "id": "5c8dd420",
   "metadata": {},
   "outputs": [],
   "source": [
    "# preprocess data\n",
    "data = data.map(preprocess_twin)\n",
    "data = data.cache()\n",
    "data = data.shuffle(buffer_size=1024)"
   ]
  },
  {
   "cell_type": "code",
   "execution_count": null,
   "id": "2464b97a",
   "metadata": {
    "scrolled": true
   },
   "outputs": [],
   "source": [
    "len(data)"
   ]
  },
  {
   "cell_type": "code",
   "execution_count": null,
   "id": "49ca2133",
   "metadata": {},
   "outputs": [],
   "source": [
    "# calculate the split percentage\n",
    "number_of_training_samples = round((len(data)*.7))\n",
    "number_of_testing_samples = round((len(data)*.3))"
   ]
  },
  {
   "cell_type": "code",
   "execution_count": null,
   "id": "49c951cb",
   "metadata": {},
   "outputs": [],
   "source": [
    "# creating a train_data\n",
    "train_data = data.take(number_of_training_samples)\n",
    "train_data = train_data.batch(16)\n",
    "train_data = train_data.prefetch(8)"
   ]
  },
  {
   "cell_type": "code",
   "execution_count": null,
   "id": "90b075dd",
   "metadata": {},
   "outputs": [],
   "source": [
    "# creating a test_data\n",
    "test_data = data.skip(number_of_training_samples)\n",
    "test_data = data.take(number_of_testing_samples)\n",
    "test_data = test_data.batch(16)\n",
    "test_data = test_data.prefetch(8)"
   ]
  },
  {
   "cell_type": "markdown",
   "id": "eccbccd6-352f-43b0-b219-0270a0256aaa",
   "metadata": {},
   "source": [
    "# Start building the model"
   ]
  },
  {
   "cell_type": "code",
   "execution_count": null,
   "id": "b318cf6b",
   "metadata": {},
   "outputs": [],
   "source": [
    "# Creating our model\n",
    "def make_embedding():\n",
    "    inp = Input(shape=(105,105,3), name=\"input_image\")\n",
    "    \n",
    "    # First block\n",
    "    conv1 = Conv2D(filters=64, kernel_size=10, activation=\"relu\")(inp)\n",
    "    mp1 = MaxPooling2D(pool_size=(2,2), padding=\"same\")(conv1) \n",
    "    \n",
    "    # Second block\n",
    "    conv2 = Conv2D(filters=128, kernel_size=7, activation=\"relu\")(mp1)\n",
    "    mp2 = MaxPooling2D(pool_size=(2,2), padding=\"same\")(conv2) \n",
    "    \n",
    "    # Third block\n",
    "    conv3 = Conv2D(filters=128, kernel_size=4, activation=\"relu\")(mp2)\n",
    "    mp3 = MaxPooling2D(pool_size=(2,2), padding=\"same\")(conv3) \n",
    "    \n",
    "    # Final block\n",
    "    conv4 = Conv2D(filters=256, kernel_size=4, activation=\"relu\")(mp3)\n",
    "    f1 = Flatten()(conv4)\n",
    "    d1 = Dense(4096, activation=\"sigmoid\")(f1)\n",
    "    \n",
    "    return Model(inputs=[inp] , outputs=[d1] , name=\"embedding\")"
   ]
  },
  {
   "cell_type": "code",
   "execution_count": null,
   "id": "b892cc5a",
   "metadata": {},
   "outputs": [],
   "source": [
    "embedding = make_embedding()"
   ]
  },
  {
   "cell_type": "code",
   "execution_count": null,
   "id": "4d3a3682",
   "metadata": {},
   "outputs": [],
   "source": [
    "embedding.summary()"
   ]
  },
  {
   "cell_type": "code",
   "execution_count": null,
   "id": "3ecf17d4",
   "metadata": {},
   "outputs": [],
   "source": [
    "# Build a Distancce Layer class\n",
    "class L1Diist(Layer):\n",
    "    def __init__(self, **kwargs):\n",
    "        super().__init__()\n",
    "        \n",
    "    # this function activated when data passed to the layer - similarity calculation\n",
    "    def call(self, input_embedding, validation_embedding):\n",
    "        return tf.math.abs(input_embedding - validation_embedding)"
   ]
  },
  {
   "cell_type": "code",
   "execution_count": null,
   "id": "2ccb5756",
   "metadata": {},
   "outputs": [],
   "source": [
    "def make_siamese__model():\n",
    "    \n",
    "    # Anchor image input\n",
    "    input_image = Input(name = \"input_image\", shape=(105,105,3))\n",
    "    \n",
    "    \n",
    "    # Validation image in the network\n",
    "    validation_image = Input(name = \"validation_image\", shape=(105,105,3))\n",
    "    \n",
    "    \n",
    "    # Compine siiamese distance components\n",
    "    \n",
    "    siamese__layer = L1Diist()\n",
    "    distances = siamese__layer(embedding(input_image), embedding(validation_image))\n",
    "    \n",
    "    \n",
    "    # Clasification layer \n",
    "    classifier = Dense(1, activation=\"sigmoid\")(distances)\n",
    "    \n",
    "    return Model(inputs=[input_image, validation_image] , outputs=classifier , name=\"SiameseNetwork\")"
   ]
  },
  {
   "cell_type": "code",
   "execution_count": null,
   "id": "a28da366",
   "metadata": {},
   "outputs": [],
   "source": [
    "siamese_model = make_siamese__model()"
   ]
  },
  {
   "cell_type": "code",
   "execution_count": null,
   "id": "344d1a63",
   "metadata": {},
   "outputs": [],
   "source": [
    "siamese_model.summary()"
   ]
  },
  {
   "cell_type": "code",
   "execution_count": null,
   "id": "c56d178b",
   "metadata": {},
   "outputs": [],
   "source": [
    "# Setup a loss function\n",
    "binary_cross_loss = tf.losses.BinaryCrossentropy()  #  use from_logits = True whe you dont normalized your  data"
   ]
  },
  {
   "cell_type": "code",
   "execution_count": null,
   "id": "55dbadb7",
   "metadata": {},
   "outputs": [],
   "source": [
    "# Defiine or optimizer\n",
    "opt = tf.keras.optimizers.Adam(1e-4)"
   ]
  },
  {
   "cell_type": "code",
   "execution_count": null,
   "id": "3aabc6f2",
   "metadata": {},
   "outputs": [],
   "source": [
    "# Checkpoiint callback  ---- to reload the checkpoint you can use modell.load(\"path_to_checkpoint\")\n",
    "# this will load the pre-trained weights\n",
    "\n",
    "checkpoint_dir = \"./training__checkpoints\"\n",
    "checkpoint_prefix = os.path.join(checkpoint_dir, \"ckpt\")\n",
    "\n",
    "# what we want to save\n",
    "checkpoint = tf.train.Checkpoint(opt = opt, siamese_model = siamese_model)"
   ]
  },
  {
   "cell_type": "markdown",
   "id": "f400a5ce",
   "metadata": {},
   "source": [
    "# Bulding a train function to train our model"
   ]
  },
  {
   "cell_type": "code",
   "execution_count": null,
   "id": "ba13ae08",
   "metadata": {},
   "outputs": [],
   "source": [
    "#  Build train step function\n",
    "@tf.function # we do this (@tf.function) to compile every thing under this decorator \n",
    "def train_step(batch):\n",
    "    \n",
    "    # We record all of or operations\n",
    "    with tf.GradientTape() as tape:\n",
    "        \n",
    "        # Get anchor and positive/negative image\n",
    "        X = batch[:2]\n",
    "        \n",
    "        #  Get Label\n",
    "        y = batch[2]\n",
    "        \n",
    "        #Forward pass\n",
    "        yhat = siamese_model(X, training = True)\n",
    "        # Calculate the loss\n",
    "        loss = binary_cross_loss(y, yhat)\n",
    "    print(f\"loss: {loss}\")\n",
    "        \n",
    "    # Calculating gradient\n",
    "    gred = tape.gradient(loss, siamese_model.trainable_variables )\n",
    "    \n",
    "    # Calculate updated weights and apply to siamese_model\n",
    "    opt.apply_gradients(zip(gred, siamese_model.trainable_variables ))\n",
    "        \n",
    "    return loss"
   ]
  },
  {
   "cell_type": "code",
   "execution_count": null,
   "id": "f92464af",
   "metadata": {},
   "outputs": [],
   "source": [
    "# Bullding our training loop\n",
    "def train(data, EPOCHS):\n",
    "    # loop through epochs \n",
    "    for epoch in range(1, EPOCHS+1):\n",
    "        print(f\"\\nEpoch: {epoch}/{EPOCHS}\")\n",
    "        progpar = tf.keras.utils.Progbar(len(data))\n",
    "        \n",
    "        # loop through each batch\n",
    "        for idx, batch in enumerate(data):\n",
    "            \n",
    "            # run train_step here\n",
    "            train_step(batch)\n",
    "            progpar.update(idx+1)\n",
    "\n",
    "        # save our checkpoint\n",
    "        if epoch % 10 == 0:\n",
    "            checkpoint.save(file_prefix=checkpoint_prefix)"
   ]
  },
  {
   "cell_type": "markdown",
   "id": "674ad971",
   "metadata": {},
   "source": [
    "# train the model"
   ]
  },
  {
   "cell_type": "code",
   "execution_count": null,
   "id": "c2a33a89",
   "metadata": {},
   "outputs": [],
   "source": [
    "EPOCH = 500"
   ]
  },
  {
   "cell_type": "code",
   "execution_count": null,
   "id": "f800672f",
   "metadata": {},
   "outputs": [],
   "source": [
    "train(train_data, EPOCH)"
   ]
  },
  {
   "cell_type": "code",
   "execution_count": null,
   "id": "bcd5ecd0",
   "metadata": {},
   "outputs": [],
   "source": [
    "# import metrics calculation to evalute out model\n",
    "from tensorflow.keras.metrics import Precision, Recall"
   ]
  },
  {
   "cell_type": "code",
   "execution_count": null,
   "id": "d540f175",
   "metadata": {},
   "outputs": [],
   "source": [
    "# get batch of test data\n",
    "test_input, test_val, y_true = test_data.as_numpy_iterator().next()"
   ]
  },
  {
   "cell_type": "code",
   "execution_count": null,
   "id": "aaae89b1",
   "metadata": {},
   "outputs": [],
   "source": [
    "y_hat = siamese_model.predict([test_input, test_val])"
   ]
  },
  {
   "cell_type": "code",
   "execution_count": null,
   "id": "905b5daa",
   "metadata": {},
   "outputs": [],
   "source": [
    "y_hat"
   ]
  },
  {
   "cell_type": "code",
   "execution_count": null,
   "id": "494625f4",
   "metadata": {},
   "outputs": [],
   "source": [
    "# post-processing the result\n",
    "q = [1 if pred > 0.5 else 0 for pred in y_hat]"
   ]
  },
  {
   "cell_type": "code",
   "execution_count": null,
   "id": "788235e6",
   "metadata": {},
   "outputs": [],
   "source": [
    "y_true"
   ]
  },
  {
   "cell_type": "code",
   "execution_count": null,
   "id": "62c16554",
   "metadata": {},
   "outputs": [],
   "source": [
    "# Creating a metrics object for Recall\n",
    "m = Recall()\n",
    "\n",
    "# Calculating the recall value\n",
    "m.update_state(y_true, y_hat)\n",
    "\n",
    "# Return the result of the recall\n",
    "m.result().numpy() *100"
   ]
  },
  {
   "cell_type": "code",
   "execution_count": null,
   "id": "290f917e",
   "metadata": {},
   "outputs": [],
   "source": [
    "# Creating a metrics object for Precision\n",
    "m = Precision()\n",
    "\n",
    "# Calculating the recall value\n",
    "m.update_state(y_true, y_hat)\n",
    "\n",
    "# Return the result of the recall\n",
    "m.result().numpy() *100"
   ]
  },
  {
   "cell_type": "markdown",
   "id": "49ab2104",
   "metadata": {},
   "source": [
    "# Visualize our prediction"
   ]
  },
  {
   "cell_type": "code",
   "execution_count": null,
   "id": "87833bfd",
   "metadata": {},
   "outputs": [],
   "source": [
    "index = 5\n",
    "plt.figure(figsize=(15,15))\n",
    "print(f\"true label: {y_true[index]}, predicted label: {q[index]}\")\n",
    "# input image\n",
    "plt.subplot(1,2,1)\n",
    "plt.imshow(test_input[index])\n",
    "\n",
    "# validation image\n",
    "plt.subplot(1,2,2)\n",
    "plt.imshow(test_val[index])\n",
    "plt.show()"
   ]
  },
  {
   "cell_type": "code",
   "execution_count": null,
   "id": "cab93c75",
   "metadata": {},
   "outputs": [],
   "source": [
    "# Save the weights\n",
    "siamese_model.save(\"siamese_model.h5\")"
   ]
  },
  {
   "cell_type": "code",
   "execution_count": null,
   "id": "b21fd9c7",
   "metadata": {
    "scrolled": true
   },
   "outputs": [],
   "source": [
    "# Reload the model\n",
    "model = tf.keras.models.load_model(\"siamese_model.h5\", \n",
    "                                   custom_objects={\"L1Diist\": L1Diist, \"BinaryCrossentropy\":tf.keras.losses.BinaryCrossentropy})"
   ]
  },
  {
   "cell_type": "code",
   "execution_count": null,
   "id": "e83eb55a",
   "metadata": {},
   "outputs": [],
   "source": [
    "# view our loaded model summary\n",
    "model.summary()"
   ]
  },
  {
   "cell_type": "code",
   "execution_count": null,
   "id": "a6d0ca15",
   "metadata": {},
   "outputs": [],
   "source": [
    "def verify(model, detection_threshold, verification_threshold):\n",
    "    # Build results array\n",
    "    results = []\n",
    "    for image in os.listdir(os.path.join('application_data', 'verification_images')):\n",
    "        input_img = preprocess(os.path.join('application_data', 'input_image', 'input_image.jpg'))\n",
    "        validation_img = preprocess(os.path.join('application_data', 'verification_images', image))\n",
    "        \n",
    "        # Make Predictions \n",
    "        result = model.predict(list(np.expand_dims([input_img, validation_img], axis=1)), verbose = False)\n",
    "        results.append(result)\n",
    "    \n",
    "    # Detection Threshold: Metric above which a prediciton is considered positive \n",
    "    detection = np.sum(np.array(results) > detection_threshold)\n",
    "    \n",
    "    # Verification Threshold: Proportion of positive predictions / total positive samples \n",
    "    verification = detection / len(os.listdir(os.path.join('application_data', 'verification_images'))) \n",
    "    verified = verification > verification_threshold\n",
    "    \n",
    "    return results, verified\n"
   ]
  },
  {
   "cell_type": "code",
   "execution_count": null,
   "id": "2638d756",
   "metadata": {},
   "outputs": [],
   "source": [
    "# input iimage path\n",
    "input_path = os.path.join(\"application_data\", \"input_image\")"
   ]
  },
  {
   "cell_type": "code",
   "execution_count": null,
   "id": "2a48303c",
   "metadata": {},
   "outputs": [],
   "source": [
    "# OpenCV Real time verification\n",
    "cap = cv2.VideoCapture(0)\n",
    "while cap.isOpened:\n",
    "    ret, frame = cap.read()\n",
    "    \n",
    "    # set the hight and width of the frame\n",
    "    frame = frame[100:350, 200:450, :]\n",
    "    \n",
    "    cv2.imshow(\"verification:\", frame)\n",
    "\n",
    "    if cv2.waitKey(10) & 0xFF == ord(\"v\"):        # Create a unique image path name\n",
    "        imgname = os.path.join(input_path, \"input_image.jpg\")\n",
    "        # write our image anchor\n",
    "        cv2.imwrite(imgname, frame)\n",
    "        \n",
    "        # verification function\n",
    "        result, verified = verify(model, 0.8, 0.7)\n",
    "        \n",
    "        if verified ==  True:\n",
    "              print(\"verified\")\n",
    "        else:\n",
    "              print(\"not verified\")\n",
    "        \n",
    "        print(verified)\n",
    "    \n",
    "    if cv2.waitKey(10) & 0xFF == ord(\"q\"):\n",
    "        break\n",
    "\n",
    "cap.release\n",
    "cv2.destroyAllWindows()"
   ]
  }
 ],
 "metadata": {
  "kernelspec": {
   "display_name": "Python 3 (ipykernel)",
   "language": "python",
   "name": "python3"
  },
  "language_info": {
   "codemirror_mode": {
    "name": "ipython",
    "version": 3
   },
   "file_extension": ".py",
   "mimetype": "text/x-python",
   "name": "python",
   "nbconvert_exporter": "python",
   "pygments_lexer": "ipython3",
   "version": "3.9.7"
  }
 },
 "nbformat": 4,
 "nbformat_minor": 5
}
